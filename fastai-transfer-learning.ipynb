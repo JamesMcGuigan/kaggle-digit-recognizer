{
 "cells": [
  {
   "cell_type": "markdown",
   "metadata": {},
   "source": [
    "# FastAI Transfer Learning\n",
    "\n",
    "This approach is based on using the fastai libray, copying techniques used in Lesson1 of the fast.ai course \n",
    "- https://github.com/fastai/course-v3/blob/master/nbs/dl1/lesson1-pets.ipynb"
   ]
  },
  {
   "cell_type": "code",
   "execution_count": null,
   "metadata": {},
   "outputs": [],
   "source": [
    "%reload_ext autoreload\n",
    "%autoreload 2\n",
    "%matplotlib inline"
   ]
  },
  {
   "cell_type": "code",
   "execution_count": null,
   "metadata": {},
   "outputs": [],
   "source": [
    "from fastai.vision import *\n",
    "from fastai.metrics import error_rate\n",
    "import numpy as np"
   ]
  },
  {
   "cell_type": "code",
   "execution_count": null,
   "metadata": {},
   "outputs": [],
   "source": [
    "import warnings; warnings.simplefilter('ignore')\n",
    "np.random.seed(2)"
   ]
  },
  {
   "cell_type": "markdown",
   "metadata": {},
   "source": [
    "### Enable GPU\n",
    "https://stackoverflow.com/questions/48152674/how-to-check-if-pytorch-is-using-the-gpu"
   ]
  },
  {
   "cell_type": "code",
   "execution_count": null,
   "metadata": {},
   "outputs": [],
   "source": [
    "import torch\n",
    "torch.cuda.is_available(), torch.cuda.get_device_name(torch.cuda.current_device()), "
   ]
  },
  {
   "cell_type": "code",
   "execution_count": null,
   "metadata": {},
   "outputs": [],
   "source": [
    "torch.cuda.current_device()"
   ]
  },
  {
   "cell_type": "code",
   "execution_count": null,
   "metadata": {},
   "outputs": [],
   "source": [
    "import GPUtil as GPU\n",
    "GPUs = GPU.getGPUs()\n",
    "gpu = GPUs[0]\n",
    "print(\"GPU RAM Free: {0:.0f}MB | Used: {1:.0f}MB | Util {2:3.0f}% | Total {3:.0f}MB\".format(gpu.memoryFree, gpu.memoryUsed, gpu.memoryUtil*100, gpu.memoryTotal))"
   ]
  },
  {
   "cell_type": "markdown",
   "metadata": {},
   "source": [
    "# Import Data\n",
    "\n",
    "csv2png.js converts the CSV file into a ImageNet style diretory tree of images\n",
    "which can be loaded into an ImageDataBunch for use with fastai"
   ]
  },
  {
   "cell_type": "code",
   "execution_count": null,
   "metadata": {},
   "outputs": [],
   "source": [
    "data = ImageDataBunch.from_folder('./data/images/', \n",
    "                                  test='test',\n",
    "                                  valid_pct=0.2,\n",
    "                                  ds_tfms=get_transforms(do_flip=False),\n",
    "                                  bs=512\n",
    "                                 )\\\n",
    "                     .normalize(imagenet_stats)"
   ]
  },
  {
   "cell_type": "code",
   "execution_count": null,
   "metadata": {},
   "outputs": [],
   "source": [
    "data"
   ]
  },
  {
   "cell_type": "code",
   "execution_count": null,
   "metadata": {},
   "outputs": [],
   "source": [
    "data.show_batch(rows=3, figsize=(5,5))"
   ]
  },
  {
   "cell_type": "markdown",
   "metadata": {},
   "source": [
    "## Establish Baseline: resnet18\n",
    "\n",
    "Lets start with the smallest network on the list and get some baseline results\n",
    "- CPU Timings: 02:50 per epoc @ bs=64\n",
    "- GPU Timings: 01:30 per epoc @ bs=64   (2x improvement) \n",
    "- GPU Timings: 01:10 per epoc @ bs=512 \n",
    "- GPU Timings: 01:10 per epoc @ bs=1024 \n",
    "- GPU Timings: 01:10 per epoc @ bs=2048 (but lower accuracy) "
   ]
  },
  {
   "cell_type": "code",
   "execution_count": 24,
   "metadata": {},
   "outputs": [
    {
     "data": {
      "text/html": [
       "<table border=\"1\" class=\"dataframe\">\n",
       "  <thead>\n",
       "    <tr style=\"text-align: left;\">\n",
       "      <th>epoch</th>\n",
       "      <th>train_loss</th>\n",
       "      <th>valid_loss</th>\n",
       "      <th>accuracy</th>\n",
       "      <th>time</th>\n",
       "    </tr>\n",
       "  </thead>\n",
       "  <tbody>\n",
       "    <tr>\n",
       "      <td>0</td>\n",
       "      <td>0.678779</td>\n",
       "      <td>0.483722</td>\n",
       "      <td>0.840357</td>\n",
       "      <td>01:29</td>\n",
       "    </tr>\n",
       "    <tr>\n",
       "      <td>1</td>\n",
       "      <td>0.392425</td>\n",
       "      <td>0.265354</td>\n",
       "      <td>0.914762</td>\n",
       "      <td>01:25</td>\n",
       "    </tr>\n",
       "  </tbody>\n",
       "</table>"
      ],
      "text/plain": [
       "<IPython.core.display.HTML object>"
      ]
     },
     "metadata": {},
     "output_type": "display_data"
    }
   ],
   "source": [
    "learn = cnn_learner(data, models.resnet18, metrics=accuracy)\n",
    "# learn.model = learn.model.cpu()   # throws exception\n",
    "# learn.model = learn.model.cuda()  # is this line required? no effect on speed\n",
    "learn.fit(2)"
   ]
  },
  {
   "cell_type": "code",
   "execution_count": 25,
   "metadata": {},
   "outputs": [],
   "source": [
    "learn.save('resnet18');"
   ]
  },
  {
   "cell_type": "code",
   "execution_count": 21,
   "metadata": {},
   "outputs": [],
   "source": [
    "def write_csv_predictions(csv_file, learn):\n",
    "    predictions, *_ = learn.get_preds(DatasetType.Test)\n",
    "    labels        = np.argmax(predictions, 1)\n",
    "    submission_df = pd.DataFrame({'ImageId': list(range(1,len(labels)+1)), 'Label': labels})\n",
    "    submission_df.to_csv(csv_file, index=False)"
   ]
  },
  {
   "cell_type": "code",
   "execution_count": 27,
   "metadata": {},
   "outputs": [],
   "source": [
    "write_csv_predictions('./submissions/fastai-resnet18-fit2.csv', learn)"
   ]
  },
  {
   "cell_type": "markdown",
   "metadata": {},
   "source": [
    "### Submit to Kaggle\n",
    "```\n",
    "kaggle competitions submit -c digit-recognizer -f ./submissions/fastai-resnet18-fit2.csv -m \"fastai: resnet18 + fit(2)\"\n",
    "```\n",
    "\n",
    "Score: 0.09371 | Rank: 2509/2521\n",
    "\n",
    "This establishes a baseline score we can attempt to beat"
   ]
  },
  {
   "cell_type": "markdown",
   "metadata": {},
   "source": [
    "### Add More Epocs"
   ]
  },
  {
   "cell_type": "code",
   "execution_count": 28,
   "metadata": {},
   "outputs": [
    {
     "data": {
      "text/html": [
       "<table border=\"1\" class=\"dataframe\">\n",
       "  <thead>\n",
       "    <tr style=\"text-align: left;\">\n",
       "      <th>epoch</th>\n",
       "      <th>train_loss</th>\n",
       "      <th>valid_loss</th>\n",
       "      <th>accuracy</th>\n",
       "      <th>time</th>\n",
       "    </tr>\n",
       "  </thead>\n",
       "  <tbody>\n",
       "    <tr>\n",
       "      <td>0</td>\n",
       "      <td>0.296057</td>\n",
       "      <td>0.168796</td>\n",
       "      <td>0.945476</td>\n",
       "      <td>01:31</td>\n",
       "    </tr>\n",
       "    <tr>\n",
       "      <td>1</td>\n",
       "      <td>0.239199</td>\n",
       "      <td>0.121703</td>\n",
       "      <td>0.963571</td>\n",
       "      <td>01:31</td>\n",
       "    </tr>\n",
       "    <tr>\n",
       "      <td>2</td>\n",
       "      <td>0.193459</td>\n",
       "      <td>0.102026</td>\n",
       "      <td>0.966786</td>\n",
       "      <td>01:29</td>\n",
       "    </tr>\n",
       "    <tr>\n",
       "      <td>3</td>\n",
       "      <td>0.172979</td>\n",
       "      <td>0.093081</td>\n",
       "      <td>0.970833</td>\n",
       "      <td>01:29</td>\n",
       "    </tr>\n",
       "    <tr>\n",
       "      <td>4</td>\n",
       "      <td>0.166506</td>\n",
       "      <td>0.081906</td>\n",
       "      <td>0.972143</td>\n",
       "      <td>01:27</td>\n",
       "    </tr>\n",
       "    <tr>\n",
       "      <td>5</td>\n",
       "      <td>0.139234</td>\n",
       "      <td>0.070884</td>\n",
       "      <td>0.976071</td>\n",
       "      <td>01:29</td>\n",
       "    </tr>\n",
       "    <tr>\n",
       "      <td>6</td>\n",
       "      <td>0.122924</td>\n",
       "      <td>0.061797</td>\n",
       "      <td>0.979762</td>\n",
       "      <td>01:27</td>\n",
       "    </tr>\n",
       "    <tr>\n",
       "      <td>7</td>\n",
       "      <td>0.149596</td>\n",
       "      <td>0.055895</td>\n",
       "      <td>0.982738</td>\n",
       "      <td>01:27</td>\n",
       "    </tr>\n",
       "  </tbody>\n",
       "</table>"
      ],
      "text/plain": [
       "<IPython.core.display.HTML object>"
      ]
     },
     "metadata": {},
     "output_type": "display_data"
    }
   ],
   "source": [
    "learn.fit(8)\n",
    "learn.save('resnet18');"
   ]
  },
  {
   "cell_type": "code",
   "execution_count": 29,
   "metadata": {},
   "outputs": [],
   "source": [
    "write_csv_predictions('./submissions/fastai-resnet18-fit10.csv', learn)"
   ]
  },
  {
   "cell_type": "markdown",
   "metadata": {},
   "source": [
    "##### Submit To Kaggle\n",
    "```\n",
    "kaggle competitions submit -c digit-recognizer -f ./submissions/fastai-resnet18-fit10.csv -m \"fastai: resnet18 + fit(10)\"\n",
    "```\n",
    "- Score: 0.09614 | Rank: 2517/2529 | ./submissions/fastai-resnet18-fit10.csv"
   ]
  },
  {
   "cell_type": "markdown",
   "metadata": {},
   "source": [
    "### Learning Rate Finding\n",
    "\n",
    "We can use learning rate finding and fit_one_cycle to achieve superconvergence if we want to see how far we get resnet18 to converge\n",
    "https://docs.fast.ai/callbacks.one_cycle.html#What-is-1cycle?"
   ]
  },
  {
   "cell_type": "code",
   "execution_count": 36,
   "metadata": {},
   "outputs": [
    {
     "data": {
      "text/html": [],
      "text/plain": [
       "<IPython.core.display.HTML object>"
      ]
     },
     "metadata": {},
     "output_type": "display_data"
    },
    {
     "name": "stdout",
     "output_type": "stream",
     "text": [
      "LR Finder is complete, type {learner_name}.recorder.plot() to see the graph.\n"
     ]
    }
   ],
   "source": [
    "learn.lr_find()"
   ]
  },
  {
   "cell_type": "code",
   "execution_count": 37,
   "metadata": {},
   "outputs": [
    {
     "data": {
      "image/png": "[encoded data removed]",
      "text/plain": [
       "<Figure size 432x288 with 1 Axes>"
      ]
     },
     "metadata": {
      "needs_background": "light"
     },
     "output_type": "display_data"
    }
   ],
   "source": [
    "learn.recorder.plot()"
   ]
  },
  {
   "cell_type": "code",
   "execution_count": 39,
   "metadata": {},
   "outputs": [
    {
     "data": {
      "text/html": [
       "<table border=\"1\" class=\"dataframe\">\n",
       "  <thead>\n",
       "    <tr style=\"text-align: left;\">\n",
       "      <th>epoch</th>\n",
       "      <th>train_loss</th>\n",
       "      <th>valid_loss</th>\n",
       "      <th>accuracy</th>\n",
       "      <th>time</th>\n",
       "    </tr>\n",
       "  </thead>\n",
       "  <tbody>\n",
       "    <tr>\n",
       "      <td>0</td>\n",
       "      <td>0.125553</td>\n",
       "      <td>0.062857</td>\n",
       "      <td>0.981310</td>\n",
       "      <td>01:27</td>\n",
       "    </tr>\n",
       "    <tr>\n",
       "      <td>1</td>\n",
       "      <td>0.114590</td>\n",
       "      <td>0.059144</td>\n",
       "      <td>0.979048</td>\n",
       "      <td>01:29</td>\n",
       "    </tr>\n",
       "    <tr>\n",
       "      <td>2</td>\n",
       "      <td>0.136303</td>\n",
       "      <td>0.089153</td>\n",
       "      <td>0.970714</td>\n",
       "      <td>01:31</td>\n",
       "    </tr>\n",
       "    <tr>\n",
       "      <td>3</td>\n",
       "      <td>0.122263</td>\n",
       "      <td>0.062091</td>\n",
       "      <td>0.981548</td>\n",
       "      <td>01:34</td>\n",
       "    </tr>\n",
       "    <tr>\n",
       "      <td>4</td>\n",
       "      <td>0.122282</td>\n",
       "      <td>0.052812</td>\n",
       "      <td>0.982381</td>\n",
       "      <td>01:29</td>\n",
       "    </tr>\n",
       "    <tr>\n",
       "      <td>5</td>\n",
       "      <td>0.140062</td>\n",
       "      <td>0.079964</td>\n",
       "      <td>0.974762</td>\n",
       "      <td>01:27</td>\n",
       "    </tr>\n",
       "    <tr>\n",
       "      <td>6</td>\n",
       "      <td>0.122094</td>\n",
       "      <td>0.049393</td>\n",
       "      <td>0.985595</td>\n",
       "      <td>01:29</td>\n",
       "    </tr>\n",
       "    <tr>\n",
       "      <td>7</td>\n",
       "      <td>0.120679</td>\n",
       "      <td>0.050365</td>\n",
       "      <td>0.984286</td>\n",
       "      <td>01:29</td>\n",
       "    </tr>\n",
       "    <tr>\n",
       "      <td>8</td>\n",
       "      <td>0.104096</td>\n",
       "      <td>0.085035</td>\n",
       "      <td>0.972976</td>\n",
       "      <td>01:28</td>\n",
       "    </tr>\n",
       "    <tr>\n",
       "      <td>9</td>\n",
       "      <td>0.100259</td>\n",
       "      <td>0.036478</td>\n",
       "      <td>0.989405</td>\n",
       "      <td>01:30</td>\n",
       "    </tr>\n",
       "    <tr>\n",
       "      <td>10</td>\n",
       "      <td>0.088551</td>\n",
       "      <td>0.043165</td>\n",
       "      <td>0.985476</td>\n",
       "      <td>01:29</td>\n",
       "    </tr>\n",
       "    <tr>\n",
       "      <td>11</td>\n",
       "      <td>0.071843</td>\n",
       "      <td>0.037165</td>\n",
       "      <td>0.989286</td>\n",
       "      <td>01:32</td>\n",
       "    </tr>\n",
       "    <tr>\n",
       "      <td>12</td>\n",
       "      <td>0.071755</td>\n",
       "      <td>0.035467</td>\n",
       "      <td>0.988929</td>\n",
       "      <td>01:30</td>\n",
       "    </tr>\n",
       "    <tr>\n",
       "      <td>13</td>\n",
       "      <td>0.061813</td>\n",
       "      <td>0.029069</td>\n",
       "      <td>0.991071</td>\n",
       "      <td>01:27</td>\n",
       "    </tr>\n",
       "    <tr>\n",
       "      <td>14</td>\n",
       "      <td>0.057788</td>\n",
       "      <td>0.025459</td>\n",
       "      <td>0.991905</td>\n",
       "      <td>01:27</td>\n",
       "    </tr>\n",
       "    <tr>\n",
       "      <td>15</td>\n",
       "      <td>0.047624</td>\n",
       "      <td>0.025782</td>\n",
       "      <td>0.991905</td>\n",
       "      <td>01:28</td>\n",
       "    </tr>\n",
       "    <tr>\n",
       "      <td>16</td>\n",
       "      <td>0.047724</td>\n",
       "      <td>0.024591</td>\n",
       "      <td>0.992857</td>\n",
       "      <td>01:28</td>\n",
       "    </tr>\n",
       "    <tr>\n",
       "      <td>17</td>\n",
       "      <td>0.038421</td>\n",
       "      <td>0.021902</td>\n",
       "      <td>0.993333</td>\n",
       "      <td>01:28</td>\n",
       "    </tr>\n",
       "    <tr>\n",
       "      <td>18</td>\n",
       "      <td>0.032425</td>\n",
       "      <td>0.022616</td>\n",
       "      <td>0.992738</td>\n",
       "      <td>01:30</td>\n",
       "    </tr>\n",
       "    <tr>\n",
       "      <td>19</td>\n",
       "      <td>0.037356</td>\n",
       "      <td>0.021704</td>\n",
       "      <td>0.993095</td>\n",
       "      <td>01:31</td>\n",
       "    </tr>\n",
       "  </tbody>\n",
       "</table>"
      ],
      "text/plain": [
       "<IPython.core.display.HTML object>"
      ]
     },
     "metadata": {},
     "output_type": "display_data"
    }
   ],
   "source": [
    "learn.fit_one_cycle(20, 1e-2)"
   ]
  },
  {
   "cell_type": "code",
   "execution_count": 40,
   "metadata": {},
   "outputs": [],
   "source": [
    "learn.save('resnet18-30');\n",
    "write_csv_predictions('./submissions/fastai-resnet18-fit_one_cycle_30.csv', learn)"
   ]
  },
  {
   "cell_type": "markdown",
   "metadata": {},
   "source": [
    "##### Submit To Kaggle\n",
    "```\n",
    "kaggle competitions submit -c digit-recognizer -f ./submissions/fastai-resnet18-fit_one_cycle_30.csv -m \"fastai: resnet18 + fit_one_cycle(30, 1e-2)\"\n",
    "```\n",
    "- Score: 0.09614 | Rank: 2517/2529 | ./submissions/fastai-resnet18-fit_one_cycle_30.csv"
   ]
  },
  {
   "cell_type": "markdown",
   "metadata": {},
   "source": [
    "# Pretrained Neural Networks\n",
    "\n",
    "There are several other pretrained models to choose from: https://github.com/pytorch/vision/blob/master/torchvision/models/resnet.py"
   ]
  },
  {
   "cell_type": "code",
   "execution_count": 10,
   "metadata": {},
   "outputs": [],
   "source": [
    "# dir(models)\n",
    "model_names = [\n",
    " 'alexnet',\n",
    " 'darknet',\n",
    " 'densenet121',\n",
    " 'densenet161',\n",
    " 'densenet169',\n",
    " 'densenet201',\n",
    " 'resnet101',\n",
    " 'resnet152',\n",
    " 'resnet18',\n",
    " 'resnet34',\n",
    " 'resnet50',\n",
    " 'squeezenet1_0',\n",
    " 'squeezenet1_1',\n",
    " 'unet',\n",
    " 'vgg11_bn',\n",
    " 'vgg13_bn',\n",
    " 'vgg16_bn',\n",
    " 'vgg19_bn',\n",
    " 'wrn',\n",
    " 'wrn_22',\n",
    " 'xception',\n",
    " 'xresnet',\n",
    " 'xresnet101',\n",
    " 'xresnet152',\n",
    " 'xresnet18',\n",
    " 'xresnet34',\n",
    " 'xresnet50'\n",
    "]\n",
    "errors = ['alexnet', 'darknet', 'densenet121', 'densenet161', 'densenet169', 'densenet201', 'unet', 'vgg11_bn', 'vgg13_bn', 'vgg16_bn', 'vgg19_bn', 'wrn', 'wrn_22', 'xception', 'xresnet', 'xresnet101', 'xresnet152', 'xresnet18', 'xresnet34', 'xresnet50']\n",
    "learns = {}"
   ]
  },
  {
   "cell_type": "code",
   "execution_count": 12,
   "metadata": {},
   "outputs": [
    {
     "name": "stdout",
     "output_type": "stream",
     "text": [
      "errors ['alexnet', 'darknet', 'densenet121', 'densenet161', 'densenet169', 'densenet201', 'unet', 'vgg11_bn', 'vgg13_bn', 'vgg16_bn', 'vgg19_bn', 'wrn', 'wrn_22', 'xception', 'xresnet', 'xresnet101', 'xresnet152', 'xresnet18', 'xresnet34', 'xresnet50']\n"
     ]
    }
   ],
   "source": [
    "for name in model_names:\n",
    "    if name in learns.keys(): continue\n",
    "    if name in errors:        continue\n",
    "    try:\n",
    "        print( name )\n",
    "        model = getattr(models, name)\n",
    "        learns[name] = cnn_learner(data, model, metrics=accuracy)\n",
    "        learns[name].lr_find()\n",
    "    except:\n",
    "        print( \"error: \", name )\n",
    "        errors.append(name)\n",
    "        \n",
    "print( \"errors\", errors )"
   ]
  },
  {
   "cell_type": "code",
   "execution_count": 18,
   "metadata": {},
   "outputs": [
    {
     "name": "stdout",
     "output_type": "stream",
     "text": [
      "resnet101\n",
      "resnet152\n",
      "resnet18\n",
      "resnet34\n",
      "resnet50\n",
      "squeezenet1_0\n",
      "squeezenet1_1\n"
     ]
    },
    {
     "data": {
      "image/png": "[encoded data removed]",
      "text/plain": [
       "<Figure size 432x288 with 1 Axes>"
      ]
     },
     "metadata": {
      "needs_background": "light"
     },
     "output_type": "display_data"
    },
    {
     "data": {
      "image/png": "[encoded data removed]",
      "text/plain": [
       "<Figure size 432x288 with 1 Axes>"
      ]
     },
     "metadata": {
      "needs_background": "light"
     },
     "output_type": "display_data"
    },
    {
     "data": {
      "image/png": "[encoded data removed]",
      "text/plain": [
       "<Figure size 432x288 with 1 Axes>"
      ]
     },
     "metadata": {
      "needs_background": "light"
     },
     "output_type": "display_data"
    },
    {
     "data": {
      "image/png": "[encoded data removed]",
      "text/plain": [
       "<Figure size 432x288 with 1 Axes>"
      ]
     },
     "metadata": {
      "needs_background": "light"
     },
     "output_type": "display_data"
    },
    {
     "data": {
      "image/png": "[encoded data removed]",
      "text/plain": [
       "<Figure size 432x288 with 1 Axes>"
      ]
     },
     "metadata": {
      "needs_background": "light"
     },
     "output_type": "display_data"
    },
    {
     "data": {
      "image/png": "[encoded data removed]",
      "text/plain": [
       "<Figure size 432x288 with 1 Axes>"
      ]
     },
     "metadata": {
      "needs_background": "light"
     },
     "output_type": "display_data"
    },
    {
     "data": {
      "image/png": "[encoded data removed]",
      "text/plain": [
       "<Figure size 432x288 with 1 Axes>"
      ]
     },
     "metadata": {
      "needs_background": "light"
     },
     "output_type": "display_data"
    }
   ],
   "source": [
    "for name in model_names:\n",
    "    if name in errors: continue\n",
    "    print( name )        \n",
    "    learns[name].recorder.plot(return_fig=True).suptitle(name)"
   ]
  },
  {
   "cell_type": "markdown",
   "metadata": {},
   "source": [
    "It appears that 1e-01 seems to be an suitable max learning rate for all of the above"
   ]
  },
  {
   "cell_type": "code",
   "execution_count": null,
   "metadata": {},
   "outputs": [
    {
     "name": "stdout",
     "output_type": "stream",
     "text": [
      "resnet101\n"
     ]
    },
    {
     "data": {
      "text/html": [
       "\n",
       "    <div>\n",
       "        <style>\n",
       "            /* Turns off some styling */\n",
       "            progress {\n",
       "                /* gets rid of default border in Firefox and Opera. */\n",
       "                border: none;\n",
       "                /* Needs to be in here for Safari polyfill so background images work as expected. */\n",
       "                background-size: auto;\n",
       "            }\n",
       "            .progress-bar-interrupted, .progress-bar-interrupted::-webkit-progress-bar {\n",
       "                background: #F44336;\n",
       "            }\n",
       "        </style>\n",
       "      <progress value='0' class='' max='10', style='width:300px; height:20px; vertical-align: middle;'></progress>\n",
       "      0.00% [0/10 00:00<00:00]\n",
       "    </div>\n",
       "    \n",
       "<table border=\"1\" class=\"dataframe\">\n",
       "  <thead>\n",
       "    <tr style=\"text-align: left;\">\n",
       "      <th>epoch</th>\n",
       "      <th>train_loss</th>\n",
       "      <th>valid_loss</th>\n",
       "      <th>accuracy</th>\n",
       "      <th>time</th>\n",
       "    </tr>\n",
       "  </thead>\n",
       "  <tbody>\n",
       "  </tbody>\n",
       "</table><p>\n",
       "\n",
       "    <div>\n",
       "        <style>\n",
       "            /* Turns off some styling */\n",
       "            progress {\n",
       "                /* gets rid of default border in Firefox and Opera. */\n",
       "                border: none;\n",
       "                /* Needs to be in here for Safari polyfill so background images work as expected. */\n",
       "                background-size: auto;\n",
       "            }\n",
       "            .progress-bar-interrupted, .progress-bar-interrupted::-webkit-progress-bar {\n",
       "                background: #F44336;\n",
       "            }\n",
       "        </style>\n",
       "      <progress value='525' class='' max='525', style='width:300px; height:20px; vertical-align: middle;'></progress>\n",
       "      100.00% [525/525 03:18<00:00 0.3126]\n",
       "    </div>\n",
       "    "
      ],
      "text/plain": [
       "<IPython.core.display.HTML object>"
      ]
     },
     "metadata": {},
     "output_type": "display_data"
    }
   ],
   "source": [
    "for name in model_names:\n",
    "    if name in errors: continue\n",
    "    print( name )        \n",
    "    learns[name].fit_one_cycle(10, slice(1e-3,1e-1))\n",
    "    learns[name].save(f'{name}-10');\n",
    "    write_csv_predictions(f'./submissions/fastai-{name}-10.csv', learns[name])    "
   ]
  },
  {
   "cell_type": "code",
   "execution_count": null,
   "metadata": {},
   "outputs": [],
   "source": [
    "for name in model_names:\n",
    "    if name in errors: continue\n",
    "    print( name )       \n",
    "    learns[name].unfreeze()\n",
    "    learns[name].fit_one_cycle(30, 1e-1)\n",
    "    learns[name].save(f'{name}-40');\n",
    "    write_csv_predictions(f'./submissions/fastai-{name}-40.csv', learns[name])    "
   ]
  },
  {
   "cell_type": "code",
   "execution_count": null,
   "metadata": {},
   "outputs": [],
   "source": [
    "for name in model_names:\n",
    "    if name in errors: continue\n",
    "    print( name ) \n",
    "    learns[name].unfreeze()    \n",
    "    learns[name].fit_one_cycle(60, 1e-1)\n",
    "    learns[name].save(f'{name}-100');\n",
    "    write_csv_predictions(f'./submissions/fastai-{name}-100.csv', learns[name])        "
   ]
  },
  {
   "cell_type": "code",
   "execution_count": null,
   "metadata": {},
   "outputs": [],
   "source": []
  }
 ],
 "metadata": {
  "kernelspec": {
   "display_name": "Python 3",
   "language": "python",
   "name": "python3"
  },
  "language_info": {
   "codemirror_mode": {
    "name": "ipython",
    "version": 3
   },
   "file_extension": ".py",
   "mimetype": "text/x-python",
   "name": "python",
   "nbconvert_exporter": "python",
   "pygments_lexer": "ipython3",
   "version": "3.7.3"
  }
 },
 "nbformat": 4,
 "nbformat_minor": 4
}
